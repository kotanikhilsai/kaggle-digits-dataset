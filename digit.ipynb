{
 "cells": [
  {
   "cell_type": "code",
   "execution_count": 112,
   "metadata": {},
   "outputs": [],
   "source": [
    "import numpy as np\n",
    "import pandas as pd\n",
    "import keras\n",
    "from keras.models import Model\n",
    "from keras.layers import *\n",
    "from keras import optimizers\n",
    "from sklearn.model_selection import train_test_split"
   ]
  },
  {
   "cell_type": "code",
   "execution_count": 113,
   "metadata": {
    "collapsed": true
   },
   "outputs": [],
   "source": [
    "train=pd.read_csv(\"train.csv\")\n",
    "test=pd.read_csv(\"test.csv\")\n",
    "train=np.matrix(train)\n",
    "test=np.matrix(test)"
   ]
  },
  {
   "cell_type": "code",
   "execution_count": 114,
   "metadata": {},
   "outputs": [
    {
     "data": {
      "text/plain": [
       "(42000, 785)"
      ]
     },
     "execution_count": 114,
     "metadata": {},
     "output_type": "execute_result"
    }
   ],
   "source": [
    "train.shape"
   ]
  },
  {
   "cell_type": "code",
   "execution_count": 115,
   "metadata": {},
   "outputs": [
    {
     "data": {
      "text/plain": [
       "(28000, 784)"
      ]
     },
     "execution_count": 115,
     "metadata": {},
     "output_type": "execute_result"
    }
   ],
   "source": [
    "test.shape"
   ]
  },
  {
   "cell_type": "code",
   "execution_count": 116,
   "metadata": {},
   "outputs": [],
   "source": [
    "features=train[:,1:785]\n",
    "label=train[:,0:1]\n",
    "trainx,valx,trainy,valy = train_test_split(features, label, \n",
    "                                                test_size = 0.2,\n",
    "                                                random_state = 1212)"
   ]
  },
  {
   "cell_type": "code",
   "execution_count": 117,
   "metadata": {},
   "outputs": [
    {
     "data": {
      "text/plain": [
       "((33600, 784), (33600, 1), (8400, 784), (8400, 1))"
      ]
     },
     "execution_count": 117,
     "metadata": {},
     "output_type": "execute_result"
    }
   ],
   "source": [
    "trainx.shape,trainy.shape,valx.shape,valy.shape"
   ]
  },
  {
   "cell_type": "code",
   "execution_count": 118,
   "metadata": {},
   "outputs": [],
   "source": [
    "trainx=trainx.astype('float32')/255\n",
    "valx=valx.astype('float32')/255\n",
    "test=test.astype('float32')/255\n"
   ]
  },
  {
   "cell_type": "code",
   "execution_count": 119,
   "metadata": {
    "collapsed": true
   },
   "outputs": [],
   "source": [
    "trainy = keras.utils.to_categorical(trainy,10)\n",
    "valy= keras.utils.to_categorical(valy,10)"
   ]
  },
  {
   "cell_type": "code",
   "execution_count": 120,
   "metadata": {},
   "outputs": [
    {
     "data": {
      "text/plain": [
       "(array([[ 0.,  0.,  1., ...,  0.,  0.,  0.],\n",
       "        [ 0.,  0.,  0., ...,  0.,  0.,  0.],\n",
       "        [ 0.,  0.,  0., ...,  0.,  0.,  0.],\n",
       "        ..., \n",
       "        [ 0.,  0.,  0., ...,  0.,  0.,  0.],\n",
       "        [ 0.,  0.,  0., ...,  0.,  0.,  0.],\n",
       "        [ 0.,  0.,  0., ...,  0.,  0.,  1.]]),\n",
       " array([[ 0.,  1.,  0., ...,  0.,  0.,  0.],\n",
       "        [ 0.,  0.,  0., ...,  0.,  0.,  0.],\n",
       "        [ 0.,  0.,  0., ...,  0.,  1.,  0.],\n",
       "        ..., \n",
       "        [ 0.,  0.,  0., ...,  1.,  0.,  0.],\n",
       "        [ 0.,  0.,  0., ...,  0.,  0.,  0.],\n",
       "        [ 0.,  0.,  1., ...,  0.,  0.,  0.]]))"
      ]
     },
     "execution_count": 120,
     "metadata": {},
     "output_type": "execute_result"
    }
   ],
   "source": [
    "trainy,valy"
   ]
  },
  {
   "cell_type": "code",
   "execution_count": 121,
   "metadata": {
    "collapsed": true
   },
   "outputs": [],
   "source": [
    "iin=784\n",
    "l1=400\n",
    "l2=200\n",
    "l3=200\n",
    "l4=100\n",
    "l5=100\n",
    "l6=100\n",
    "out=10\n",
    "\n"
   ]
  },
  {
   "cell_type": "code",
   "execution_count": 122,
   "metadata": {
    "collapsed": true
   },
   "outputs": [],
   "source": [
    "inp=Input(shape=(iin,))"
   ]
  },
  {
   "cell_type": "code",
   "execution_count": 123,
   "metadata": {
    "collapsed": true
   },
   "outputs": [],
   "source": [
    "m=Dense(l1,activation='relu',name='hiddenlayer1')(inp)"
   ]
  },
  {
   "cell_type": "code",
   "execution_count": 124,
   "metadata": {
    "collapsed": true
   },
   "outputs": [],
   "source": [
    "m=Dense(l2,activation='relu',name='hiddenlayer2')(m)"
   ]
  },
  {
   "cell_type": "code",
   "execution_count": 125,
   "metadata": {
    "collapsed": true
   },
   "outputs": [],
   "source": [
    "m=Dense(l3,activation='relu',name='hiddenlayer3')(m)"
   ]
  },
  {
   "cell_type": "code",
   "execution_count": 126,
   "metadata": {
    "collapsed": true
   },
   "outputs": [],
   "source": [
    "m=Dense(l4,activation='relu',name='hiddenlayer4')(m)"
   ]
  },
  {
   "cell_type": "code",
   "execution_count": 127,
   "metadata": {
    "collapsed": true
   },
   "outputs": [],
   "source": [
    "m=Dense(l5,activation='relu',name='hiddenlayer5')(m)"
   ]
  },
  {
   "cell_type": "code",
   "execution_count": 128,
   "metadata": {
    "collapsed": true
   },
   "outputs": [],
   "source": [
    "m=Dense(l6,activation='relu',name='hiddenlayer6')(m)"
   ]
  },
  {
   "cell_type": "code",
   "execution_count": 129,
   "metadata": {},
   "outputs": [],
   "source": [
    "output = Dense(out, activation='softmax', name = \"OutputLayer\")(m)"
   ]
  },
  {
   "cell_type": "code",
   "execution_count": 130,
   "metadata": {
    "collapsed": true
   },
   "outputs": [],
   "source": [
    "model = Model(inp, output)"
   ]
  },
  {
   "cell_type": "code",
   "execution_count": 131,
   "metadata": {},
   "outputs": [
    {
     "name": "stdout",
     "output_type": "stream",
     "text": [
      "_________________________________________________________________\n",
      "Layer (type)                 Output Shape              Param #   \n",
      "=================================================================\n",
      "input_4 (InputLayer)         (None, 784)               0         \n",
      "_________________________________________________________________\n",
      "hiddenlayer1 (Dense)         (None, 400)               314000    \n",
      "_________________________________________________________________\n",
      "hiddenlayer2 (Dense)         (None, 200)               80200     \n",
      "_________________________________________________________________\n",
      "hiddenlayer3 (Dense)         (None, 200)               40200     \n",
      "_________________________________________________________________\n",
      "hiddenlayer4 (Dense)         (None, 100)               20100     \n",
      "_________________________________________________________________\n",
      "hiddenlayer5 (Dense)         (None, 100)               10100     \n",
      "_________________________________________________________________\n",
      "hiddenlayer6 (Dense)         (None, 100)               10100     \n",
      "_________________________________________________________________\n",
      "OutputLayer (Dense)          (None, 10)                1010      \n",
      "=================================================================\n",
      "Total params: 475,710\n",
      "Trainable params: 475,710\n",
      "Non-trainable params: 0\n",
      "_________________________________________________________________\n"
     ]
    }
   ],
   "source": [
    "model.summary()"
   ]
  },
  {
   "cell_type": "code",
   "execution_count": 132,
   "metadata": {
    "collapsed": true
   },
   "outputs": [],
   "source": [
    "learning_rate = 0.01\n",
    "training_epochs = 20\n",
    "batch_size = 100\n",
    "adam = optimizers.Adam(lr=learning_rate)"
   ]
  },
  {
   "cell_type": "code",
   "execution_count": 133,
   "metadata": {
    "collapsed": true
   },
   "outputs": [],
   "source": [
    "model.compile(loss='categorical_crossentropy',\n",
    "              optimizer='adam',\n",
    "              metrics=['accuracy'])"
   ]
  },
  {
   "cell_type": "code",
   "execution_count": 134,
   "metadata": {},
   "outputs": [
    {
     "name": "stdout",
     "output_type": "stream",
     "text": [
      "Train on 33600 samples, validate on 8400 samples\n",
      "Epoch 1/20\n",
      "3s - loss: 0.3380 - acc: 0.9003 - val_loss: 0.1876 - val_acc: 0.9435\n",
      "Epoch 2/20\n",
      "3s - loss: 0.1198 - acc: 0.9642 - val_loss: 0.1107 - val_acc: 0.9671\n",
      "Epoch 3/20\n",
      "3s - loss: 0.0822 - acc: 0.9751 - val_loss: 0.1037 - val_acc: 0.9696\n",
      "Epoch 4/20\n",
      "3s - loss: 0.0663 - acc: 0.9788 - val_loss: 0.1067 - val_acc: 0.9702\n",
      "Epoch 5/20\n",
      "3s - loss: 0.0453 - acc: 0.9854 - val_loss: 0.1036 - val_acc: 0.9702\n",
      "Epoch 6/20\n",
      "3s - loss: 0.0394 - acc: 0.9875 - val_loss: 0.0984 - val_acc: 0.9732\n",
      "Epoch 7/20\n",
      "3s - loss: 0.0368 - acc: 0.9882 - val_loss: 0.1066 - val_acc: 0.9746\n",
      "Epoch 8/20\n",
      "3s - loss: 0.0328 - acc: 0.9901 - val_loss: 0.0983 - val_acc: 0.9755\n",
      "Epoch 9/20\n",
      "3s - loss: 0.0284 - acc: 0.9910 - val_loss: 0.0895 - val_acc: 0.9786\n",
      "Epoch 10/20\n",
      "3s - loss: 0.0279 - acc: 0.9908 - val_loss: 0.1014 - val_acc: 0.9742\n",
      "Epoch 11/20\n",
      "3s - loss: 0.0216 - acc: 0.9937 - val_loss: 0.1113 - val_acc: 0.9760\n",
      "Epoch 12/20\n",
      "3s - loss: 0.0192 - acc: 0.9937 - val_loss: 0.1282 - val_acc: 0.9717\n",
      "Epoch 13/20\n",
      "3s - loss: 0.0182 - acc: 0.9944 - val_loss: 0.1184 - val_acc: 0.9764\n",
      "Epoch 14/20\n",
      "3s - loss: 0.0216 - acc: 0.9936 - val_loss: 0.1014 - val_acc: 0.9779\n",
      "Epoch 15/20\n",
      "3s - loss: 0.0144 - acc: 0.9956 - val_loss: 0.1097 - val_acc: 0.9783\n",
      "Epoch 16/20\n",
      "3s - loss: 0.0222 - acc: 0.9936 - val_loss: 0.1093 - val_acc: 0.9739\n",
      "Epoch 17/20\n",
      "3s - loss: 0.0179 - acc: 0.9949 - val_loss: 0.1046 - val_acc: 0.9761\n",
      "Epoch 18/20\n",
      "3s - loss: 0.0146 - acc: 0.9959 - val_loss: 0.1281 - val_acc: 0.9761\n",
      "Epoch 19/20\n",
      "3s - loss: 0.0107 - acc: 0.9971 - val_loss: 0.1161 - val_acc: 0.9771\n",
      "Epoch 20/20\n",
      "3s - loss: 0.0119 - acc: 0.9966 - val_loss: 0.1503 - val_acc: 0.9738\n"
     ]
    }
   ],
   "source": [
    "details=model.fit(trainx,trainy,\n",
    "                      batch_size = batch_size,\n",
    "                      epochs = training_epochs,\n",
    "                      verbose = 2,\n",
    "                      validation_data=(valx,valy))"
   ]
  },
  {
   "cell_type": "code",
   "execution_count": 146,
   "metadata": {},
   "outputs": [
    {
     "data": {
      "text/html": [
       "<div>\n",
       "<style>\n",
       "    .dataframe thead tr:only-child th {\n",
       "        text-align: right;\n",
       "    }\n",
       "\n",
       "    .dataframe thead th {\n",
       "        text-align: left;\n",
       "    }\n",
       "\n",
       "    .dataframe tbody tr th {\n",
       "        vertical-align: top;\n",
       "    }\n",
       "</style>\n",
       "<table border=\"1\" class=\"dataframe\">\n",
       "  <thead>\n",
       "    <tr style=\"text-align: right;\">\n",
       "      <th></th>\n",
       "      <th>0</th>\n",
       "    </tr>\n",
       "  </thead>\n",
       "  <tbody>\n",
       "    <tr>\n",
       "      <th>0</th>\n",
       "      <td>2</td>\n",
       "    </tr>\n",
       "    <tr>\n",
       "      <th>1</th>\n",
       "      <td>0</td>\n",
       "    </tr>\n",
       "    <tr>\n",
       "      <th>2</th>\n",
       "      <td>9</td>\n",
       "    </tr>\n",
       "    <tr>\n",
       "      <th>3</th>\n",
       "      <td>0</td>\n",
       "    </tr>\n",
       "    <tr>\n",
       "      <th>4</th>\n",
       "      <td>3</td>\n",
       "    </tr>\n",
       "  </tbody>\n",
       "</table>\n",
       "</div>"
      ],
      "text/plain": [
       "   0\n",
       "0  2\n",
       "1  0\n",
       "2  9\n",
       "3  0\n",
       "4  3"
      ]
     },
     "execution_count": 146,
     "metadata": {},
     "output_type": "execute_result"
    }
   ],
   "source": [
    "test_pred = pd.DataFrame(model.predict(test, batch_size=200))\n",
    "test_pred = pd.DataFrame(test_pred.idxmax(axis = 1))\n",
    "test_pred.head()"
   ]
  },
  {
   "cell_type": "code",
   "execution_count": 147,
   "metadata": {
    "collapsed": true
   },
   "outputs": [],
   "source": [
    "import matplotlib.pyplot as  pt\n",
    "%matplotlib inline"
   ]
  },
  {
   "cell_type": "code",
   "execution_count": 154,
   "metadata": {},
   "outputs": [
    {
     "data": {
      "text/plain": [
       "<matplotlib.image.AxesImage at 0x1dbf4d1a0f0>"
      ]
     },
     "execution_count": 154,
     "metadata": {},
     "output_type": "execute_result"
    },
    {
     "data": {
      "image/png": "[encoded data removed]",
      "text/plain": [
       "<matplotlib.figure.Figure at 0x1dbf482fe10>"
      ]
     },
     "metadata": {},
     "output_type": "display_data"
    }
   ],
   "source": [
    "im=test[4,:]\n",
    "im.shape=(28,28)\n",
    "pt.imshow(255-im,cmap='gray')"
   ]
  },
  {
   "cell_type": "code",
   "execution_count": null,
   "metadata": {
    "collapsed": true
   },
   "outputs": [],
   "source": []
  }
 ],
 "metadata": {
  "kernelspec": {
   "display_name": "Python 3",
   "language": "python",
   "name": "python3"
  },
  "language_info": {
   "codemirror_mode": {
    "name": "ipython",
    "version": 3
   },
   "file_extension": ".py",
   "mimetype": "text/x-python",
   "name": "python",
   "nbconvert_exporter": "python",
   "pygments_lexer": "ipython3",
   "version": "3.6.1"
  }
 },
 "nbformat": 4,
 "nbformat_minor": 2
}
